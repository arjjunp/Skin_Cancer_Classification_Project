{
 "cells": [
  {
   "cell_type": "code",
   "execution_count": 1,
   "metadata": {},
   "outputs": [],
   "source": [
    "# Dl framwork - tensorflow, keras a backend \n",
    "import tensorflow as tf\n"
   ]
  },
  {
   "cell_type": "code",
   "execution_count": 2,
   "metadata": {},
   "outputs": [],
   "source": [
    "import tensorflow.keras.backend as K"
   ]
  },
  {
   "cell_type": "code",
   "execution_count": 3,
   "metadata": {},
   "outputs": [],
   "source": [
    "from tensorflow.keras.models import Model"
   ]
  },
  {
   "cell_type": "code",
   "execution_count": 4,
   "metadata": {},
   "outputs": [],
   "source": [
    "from tensorflow.keras.models import Sequential"
   ]
  },
  {
   "cell_type": "code",
   "execution_count": 5,
   "metadata": {},
   "outputs": [],
   "source": [
    "from tensorflow.keras.layers import Input"
   ]
  },
  {
   "cell_type": "code",
   "execution_count": 6,
   "metadata": {},
   "outputs": [],
   "source": [
    "from tensorflow.keras.layers import Dense"
   ]
  },
  {
   "cell_type": "code",
   "execution_count": 7,
   "metadata": {},
   "outputs": [],
   "source": [
    "from tensorflow.keras.layers import Flatten"
   ]
  },
  {
   "cell_type": "code",
   "execution_count": 8,
   "metadata": {},
   "outputs": [],
   "source": [
    "from tensorflow.keras.layers import Conv2D"
   ]
  },
  {
   "cell_type": "code",
   "execution_count": 9,
   "metadata": {},
   "outputs": [],
   "source": [
    "from tensorflow.keras.layers import MaxPooling2D"
   ]
  },
  {
   "cell_type": "code",
   "execution_count": 10,
   "metadata": {},
   "outputs": [],
   "source": [
    "from tensorflow.keras.layers import Dropout"
   ]
  },
  {
   "cell_type": "code",
   "execution_count": 11,
   "metadata": {},
   "outputs": [],
   "source": [
    "from tensorflow.keras.layers import LeakyReLU"
   ]
  },
  {
   "cell_type": "code",
   "execution_count": 12,
   "metadata": {},
   "outputs": [],
   "source": [
    "from tensorflow.keras.layers import Activation"
   ]
  },
  {
   "cell_type": "code",
   "execution_count": 13,
   "metadata": {},
   "outputs": [],
   "source": [
    "from tensorflow.keras.optimizers import Adam"
   ]
  },
  {
   "cell_type": "code",
   "execution_count": 14,
   "metadata": {},
   "outputs": [],
   "source": [
    "from tensorflow.keras.preprocessing.image import ImageDataGenerator"
   ]
  },
  {
   "cell_type": "code",
   "execution_count": 15,
   "metadata": {},
   "outputs": [],
   "source": [
    "from tensorflow.keras.callbacks import ModelCheckpoint"
   ]
  },
  {
   "cell_type": "code",
   "execution_count": 16,
   "metadata": {},
   "outputs": [],
   "source": [
    "from tensorflow.keras.callbacks import ReduceLROnPlateau"
   ]
  },
  {
   "cell_type": "code",
   "execution_count": 17,
   "metadata": {},
   "outputs": [],
   "source": [
    "from tensorflow.keras.callbacks import EarlyStopping"
   ]
  },
  {
   "cell_type": "code",
   "execution_count": 18,
   "metadata": {},
   "outputs": [],
   "source": [
    "import warnings\n",
    "warnings.filterwarnings('ignore')"
   ]
  },
  {
   "cell_type": "code",
   "execution_count": 19,
   "metadata": {},
   "outputs": [
    {
     "name": "stdout",
     "output_type": "stream",
     "text": [
      "Model: \"sequential\"\n",
      "_________________________________________________________________\n",
      " Layer (type)                Output Shape              Param #   \n",
      "=================================================================\n",
      " conv2d (Conv2D)             (None, 54, 54, 96)        34944     \n",
      "                                                                 \n",
      " activation (Activation)     (None, 54, 54, 96)        0         \n",
      "                                                                 \n",
      " max_pooling2d (MaxPooling2D  (None, 27, 27, 96)       0         \n",
      " )                                                               \n",
      "                                                                 \n",
      " conv2d_1 (Conv2D)           (None, 17, 17, 256)       2973952   \n",
      "                                                                 \n",
      " activation_1 (Activation)   (None, 17, 17, 256)       0         \n",
      "                                                                 \n",
      " max_pooling2d_1 (MaxPooling  (None, 8, 8, 256)        0         \n",
      " 2D)                                                             \n",
      "                                                                 \n",
      " conv2d_2 (Conv2D)           (None, 6, 6, 384)         885120    \n",
      "                                                                 \n",
      " activation_2 (Activation)   (None, 6, 6, 384)         0         \n",
      "                                                                 \n",
      " conv2d_3 (Conv2D)           (None, 4, 4, 384)         1327488   \n",
      "                                                                 \n",
      " activation_3 (Activation)   (None, 4, 4, 384)         0         \n",
      "                                                                 \n",
      " conv2d_4 (Conv2D)           (None, 2, 2, 256)         884992    \n",
      "                                                                 \n",
      " activation_4 (Activation)   (None, 2, 2, 256)         0         \n",
      "                                                                 \n",
      " max_pooling2d_2 (MaxPooling  (None, 1, 1, 256)        0         \n",
      " 2D)                                                             \n",
      "                                                                 \n",
      " flatten (Flatten)           (None, 256)               0         \n",
      "                                                                 \n",
      " dense (Dense)               (None, 4096)              1052672   \n",
      "                                                                 \n",
      " activation_5 (Activation)   (None, 4096)              0         \n",
      "                                                                 \n",
      " dropout (Dropout)           (None, 4096)              0         \n",
      "                                                                 \n",
      " dense_1 (Dense)             (None, 4096)              16781312  \n",
      "                                                                 \n",
      " activation_6 (Activation)   (None, 4096)              0         \n",
      "                                                                 \n",
      " dropout_1 (Dropout)         (None, 4096)              0         \n",
      "                                                                 \n",
      " dense_2 (Dense)             (None, 1000)              4097000   \n",
      "                                                                 \n",
      " activation_7 (Activation)   (None, 1000)              0         \n",
      "                                                                 \n",
      " dropout_2 (Dropout)         (None, 1000)              0         \n",
      "                                                                 \n",
      " dense_3 (Dense)             (None, 3)                 3003      \n",
      "                                                                 \n",
      " activation_8 (Activation)   (None, 3)                 0         \n",
      "                                                                 \n",
      "=================================================================\n",
      "Total params: 28,040,483\n",
      "Trainable params: 28,040,483\n",
      "Non-trainable params: 0\n",
      "_________________________________________________________________\n"
     ]
    }
   ],
   "source": [
    "model = Sequential()\n",
    "# 1st Convolutional Layer\n",
    "model.add(Conv2D(filters=96, input_shape=(224,224,3), kernel_size=(11,11), strides=(4,4), padding='valid'))\n",
    "model.add(Activation('relu'))\n",
    "# Max Pooling\n",
    "model.add(MaxPooling2D(pool_size=(2,2), strides=(2,2), padding='valid'))\n",
    "# 2nd Convolutional Layer\n",
    "model.add(Conv2D(filters=256, kernel_size=(11,11), strides=(1,1), padding='valid'))\n",
    "model.add(Activation('relu'))\n",
    "# Max Pooling\n",
    "model.add(MaxPooling2D(pool_size=(2,2), strides=(2,2), padding='valid'))\n",
    "# 3rd Convolutional Layer\n",
    "model.add(Conv2D(filters=384, kernel_size=(3,3), strides=(1,1), padding='valid'))\n",
    "model.add(Activation('relu'))\n",
    "# 4th Convolutional Layer\n",
    "model.add(Conv2D(filters=384, kernel_size=(3,3), strides=(1,1), padding='valid'))\n",
    "model.add(Activation('relu'))\n",
    "# 5th Convolutional Layer\n",
    "model.add(Conv2D(filters=256, kernel_size=(3,3), strides=(1,1), padding='valid'))\n",
    "model.add(Activation('relu'))\n",
    "# Max Pooling\n",
    "model.add(MaxPooling2D(pool_size=(2,2), strides=(2,2), padding='valid'))\n",
    "# Passing it to a Fully Connected layer\n",
    "model.add(Flatten())\n",
    "# 1st Fully Connected Layer\n",
    "model.add(Dense(4096, input_shape=(224*224*3,)))\n",
    "model.add(Activation('relu'))\n",
    "# Add Dropout to prevent overfitting\n",
    "model.add(Dropout(0.4))\n",
    "# 2nd Fully Connected Layer\n",
    "model.add(Dense(4096))\n",
    "model.add(Activation('relu'))\n",
    "# Add Dropout\n",
    "model.add(Dropout(0.4))\n",
    "# 3rd Fully Connected Layer\n",
    "model.add(Dense(1000))\n",
    "model.add(Activation('relu'))\n",
    "# Add Dropout\n",
    "model.add(Dropout(0.4))\n",
    "# Output Layer\n",
    "model.add(Dense(3))\n",
    "model.add(Activation('softmax'))\n",
    "model.summary()\n",
    "\n",
    "# Compile the model\n",
    "model.compile(loss = 'categorical_crossentropy', optimizer='adam', metrics=['accuracy'])"
   ]
  },
  {
   "cell_type": "code",
   "execution_count": 20,
   "metadata": {},
   "outputs": [],
   "source": [
    "train_datagen=ImageDataGenerator(rescale=1./255,shear_range=0.2,zoom_range=0.2,horizontal_flip=True)\n",
    "test_datagen=ImageDataGenerator(rescale=1./255)"
   ]
  },
  {
   "cell_type": "code",
   "execution_count": 21,
   "metadata": {},
   "outputs": [
    {
     "name": "stdout",
     "output_type": "stream",
     "text": [
      "Found 340 images belonging to 3 classes.\n",
      "Found 340 images belonging to 3 classes.\n"
     ]
    }
   ],
   "source": [
    "training_set=train_datagen.flow_from_directory('data1/train',target_size=(224,224),batch_size=32,class_mode='categorical')\n",
    "test_set=test_datagen.flow_from_directory('data1/test',target_size=(224,224),batch_size=32,class_mode='categorical')"
   ]
  },
  {
   "cell_type": "code",
   "execution_count": 22,
   "metadata": {},
   "outputs": [],
   "source": [
    "img_dims = 150\n",
    "epochs = 100\n",
    "batch_size = 32"
   ]
  },
  {
   "cell_type": "code",
   "execution_count": 23,
   "metadata": {
    "scrolled": true
   },
   "outputs": [
    {
     "name": "stdout",
     "output_type": "stream",
     "text": [
      "Epoch 1/100\n",
      "10/10 [==============================] - 15s 1s/step - loss: 1.1259 - accuracy: 0.3831 - val_loss: 1.1001 - val_accuracy: 0.3719\n",
      "Epoch 2/100\n",
      "10/10 [==============================] - 14s 1s/step - loss: 1.0970 - accuracy: 0.3766 - val_loss: 1.0948 - val_accuracy: 0.3688\n",
      "Epoch 3/100\n",
      "10/10 [==============================] - 14s 1s/step - loss: 1.0997 - accuracy: 0.3734 - val_loss: 1.0935 - val_accuracy: 0.3781\n",
      "Epoch 4/100\n",
      "10/10 [==============================] - 15s 1s/step - loss: 1.0969 - accuracy: 0.3734 - val_loss: 1.0944 - val_accuracy: 0.3812\n",
      "Epoch 5/100\n",
      "10/10 [==============================] - 14s 1s/step - loss: 1.0967 - accuracy: 0.3636 - val_loss: 1.0947 - val_accuracy: 0.3750\n",
      "Epoch 6/100\n",
      "10/10 [==============================] - 14s 1s/step - loss: 1.0977 - accuracy: 0.3636 - val_loss: 1.0937 - val_accuracy: 0.3656\n",
      "Epoch 7/100\n",
      "10/10 [==============================] - 14s 1s/step - loss: 1.0742 - accuracy: 0.3766 - val_loss: 1.0637 - val_accuracy: 0.3688\n",
      "Epoch 8/100\n",
      "10/10 [==============================] - 15s 2s/step - loss: 1.0607 - accuracy: 0.3799 - val_loss: 1.0694 - val_accuracy: 0.3625\n",
      "Epoch 9/100\n",
      "10/10 [==============================] - 16s 2s/step - loss: 1.0599 - accuracy: 0.3313 - val_loss: 1.2032 - val_accuracy: 0.5125\n",
      "Epoch 10/100\n",
      "10/10 [==============================] - 14s 1s/step - loss: 1.0417 - accuracy: 0.4805 - val_loss: 1.0144 - val_accuracy: 0.4375\n",
      "Epoch 11/100\n",
      "10/10 [==============================] - 14s 1s/step - loss: 0.9229 - accuracy: 0.4708 - val_loss: 1.3248 - val_accuracy: 0.5281\n",
      "Epoch 12/100\n",
      "10/10 [==============================] - 14s 1s/step - loss: 0.9455 - accuracy: 0.4903 - val_loss: 1.0815 - val_accuracy: 0.3781\n",
      "Epoch 13/100\n",
      "10/10 [==============================] - 14s 1s/step - loss: 1.1226 - accuracy: 0.3375 - val_loss: 1.1022 - val_accuracy: 0.3281\n",
      "Epoch 14/100\n",
      "10/10 [==============================] - 14s 1s/step - loss: 1.0998 - accuracy: 0.3250 - val_loss: 1.0971 - val_accuracy: 0.3750\n",
      "Epoch 15/100\n",
      "10/10 [==============================] - 14s 1s/step - loss: 1.0985 - accuracy: 0.3474 - val_loss: 1.0948 - val_accuracy: 0.3750\n",
      "Epoch 16/100\n",
      "10/10 [==============================] - 14s 1s/step - loss: 1.0970 - accuracy: 0.3636 - val_loss: 1.0948 - val_accuracy: 0.3719\n",
      "Epoch 17/100\n",
      "10/10 [==============================] - 14s 1s/step - loss: 1.0963 - accuracy: 0.3604 - val_loss: 1.0929 - val_accuracy: 0.3812\n",
      "Epoch 18/100\n",
      "10/10 [==============================] - 14s 1s/step - loss: 1.0966 - accuracy: 0.3701 - val_loss: 1.0958 - val_accuracy: 0.3656\n",
      "Epoch 19/100\n",
      "10/10 [==============================] - 14s 1s/step - loss: 1.0962 - accuracy: 0.3701 - val_loss: 1.0949 - val_accuracy: 0.3688\n",
      "Epoch 20/100\n",
      "10/10 [==============================] - 14s 1s/step - loss: 1.0965 - accuracy: 0.3701 - val_loss: 1.0946 - val_accuracy: 0.3750\n",
      "Epoch 21/100\n",
      "10/10 [==============================] - 15s 1s/step - loss: 1.0921 - accuracy: 0.3799 - val_loss: 1.0940 - val_accuracy: 0.3781\n",
      "Epoch 22/100\n",
      "10/10 [==============================] - 14s 1s/step - loss: 1.0961 - accuracy: 0.3701 - val_loss: 1.0951 - val_accuracy: 0.3688\n",
      "Epoch 23/100\n",
      "10/10 [==============================] - 14s 1s/step - loss: 1.0960 - accuracy: 0.3636 - val_loss: 1.0970 - val_accuracy: 0.3594\n",
      "Epoch 24/100\n",
      "10/10 [==============================] - 14s 1s/step - loss: 1.0986 - accuracy: 0.3604 - val_loss: 1.0954 - val_accuracy: 0.3656\n",
      "Epoch 25/100\n",
      "10/10 [==============================] - 14s 1s/step - loss: 1.0966 - accuracy: 0.3688 - val_loss: 1.0944 - val_accuracy: 0.3781\n",
      "Epoch 26/100\n",
      "10/10 [==============================] - 14s 1s/step - loss: 1.0944 - accuracy: 0.3688 - val_loss: 1.0952 - val_accuracy: 0.3750\n",
      "Epoch 27/100\n",
      "10/10 [==============================] - 14s 1s/step - loss: 1.0963 - accuracy: 0.3701 - val_loss: 1.0965 - val_accuracy: 0.3625\n",
      "Epoch 28/100\n",
      "10/10 [==============================] - 14s 1s/step - loss: 1.0969 - accuracy: 0.3734 - val_loss: 1.0945 - val_accuracy: 0.3719\n",
      "Epoch 29/100\n",
      "10/10 [==============================] - 14s 1s/step - loss: 1.0959 - accuracy: 0.3734 - val_loss: 1.0950 - val_accuracy: 0.3688\n",
      "Epoch 30/100\n",
      "10/10 [==============================] - 14s 1s/step - loss: 1.0971 - accuracy: 0.3656 - val_loss: 1.0965 - val_accuracy: 0.3594\n",
      "Epoch 31/100\n",
      "10/10 [==============================] - 14s 1s/step - loss: 1.0963 - accuracy: 0.3669 - val_loss: 1.0966 - val_accuracy: 0.3625\n",
      "Epoch 32/100\n",
      "10/10 [==============================] - 14s 1s/step - loss: 1.0962 - accuracy: 0.3636 - val_loss: 1.0921 - val_accuracy: 0.3875\n",
      "Epoch 33/100\n",
      "10/10 [==============================] - 14s 1s/step - loss: 1.0960 - accuracy: 0.3636 - val_loss: 1.0944 - val_accuracy: 0.3750\n",
      "Epoch 34/100\n",
      "10/10 [==============================] - 14s 1s/step - loss: 1.0965 - accuracy: 0.3636 - val_loss: 1.0949 - val_accuracy: 0.3688\n",
      "Epoch 35/100\n",
      "10/10 [==============================] - 14s 1s/step - loss: 1.0971 - accuracy: 0.3669 - val_loss: 1.0943 - val_accuracy: 0.3781\n",
      "Epoch 36/100\n",
      "10/10 [==============================] - 14s 1s/step - loss: 1.0961 - accuracy: 0.3669 - val_loss: 1.0932 - val_accuracy: 0.3812\n",
      "Epoch 37/100\n",
      "10/10 [==============================] - 14s 1s/step - loss: 1.0945 - accuracy: 0.3636 - val_loss: 1.0934 - val_accuracy: 0.3875\n",
      "Epoch 38/100\n",
      "10/10 [==============================] - 14s 1s/step - loss: 1.0951 - accuracy: 0.3669 - val_loss: 1.0973 - val_accuracy: 0.3656\n",
      "Epoch 39/100\n",
      "10/10 [==============================] - 14s 1s/step - loss: 1.0942 - accuracy: 0.3766 - val_loss: 1.0920 - val_accuracy: 0.3844\n",
      "Epoch 40/100\n",
      "10/10 [==============================] - 14s 1s/step - loss: 1.0923 - accuracy: 0.3766 - val_loss: 1.0955 - val_accuracy: 0.3812\n",
      "Epoch 41/100\n",
      "10/10 [==============================] - 14s 1s/step - loss: 1.0991 - accuracy: 0.3669 - val_loss: 1.0968 - val_accuracy: 0.3656\n",
      "Epoch 42/100\n",
      "10/10 [==============================] - 14s 1s/step - loss: 1.0981 - accuracy: 0.3539 - val_loss: 1.0944 - val_accuracy: 0.3781\n",
      "Epoch 43/100\n",
      "10/10 [==============================] - 14s 1s/step - loss: 1.0970 - accuracy: 0.3636 - val_loss: 1.0947 - val_accuracy: 0.3781\n",
      "Epoch 44/100\n",
      "10/10 [==============================] - 14s 1s/step - loss: 1.0959 - accuracy: 0.3766 - val_loss: 1.0958 - val_accuracy: 0.3656\n",
      "Epoch 45/100\n",
      "10/10 [==============================] - 14s 1s/step - loss: 1.0943 - accuracy: 0.3864 - val_loss: 1.0941 - val_accuracy: 0.3781\n",
      "Epoch 46/100\n",
      "10/10 [==============================] - 14s 1s/step - loss: 1.0947 - accuracy: 0.3781 - val_loss: 1.0947 - val_accuracy: 0.3719\n",
      "Epoch 47/100\n",
      "10/10 [==============================] - 14s 1s/step - loss: 1.0993 - accuracy: 0.3571 - val_loss: 1.0956 - val_accuracy: 0.3656\n",
      "Epoch 48/100\n",
      "10/10 [==============================] - 14s 1s/step - loss: 1.0963 - accuracy: 0.3636 - val_loss: 1.0935 - val_accuracy: 0.3781\n",
      "Epoch 49/100\n",
      "10/10 [==============================] - 14s 1s/step - loss: 1.0945 - accuracy: 0.3766 - val_loss: 1.0945 - val_accuracy: 0.3750\n",
      "Epoch 50/100\n",
      "10/10 [==============================] - 14s 1s/step - loss: 1.0954 - accuracy: 0.3831 - val_loss: 1.0954 - val_accuracy: 0.3688\n",
      "Epoch 51/100\n",
      "10/10 [==============================] - 14s 1s/step - loss: 1.0950 - accuracy: 0.3669 - val_loss: 1.0948 - val_accuracy: 0.3719\n",
      "Epoch 52/100\n",
      "10/10 [==============================] - 14s 1s/step - loss: 1.0972 - accuracy: 0.3701 - val_loss: 1.0942 - val_accuracy: 0.3781\n",
      "Epoch 53/100\n",
      "10/10 [==============================] - 14s 1s/step - loss: 1.0958 - accuracy: 0.3701 - val_loss: 1.0937 - val_accuracy: 0.3781\n",
      "Epoch 54/100\n",
      "10/10 [==============================] - 14s 1s/step - loss: 1.0971 - accuracy: 0.3636 - val_loss: 1.0958 - val_accuracy: 0.3625\n",
      "Epoch 55/100\n",
      "10/10 [==============================] - 17s 2s/step - loss: 1.0944 - accuracy: 0.3734 - val_loss: 1.0942 - val_accuracy: 0.3781\n",
      "Epoch 56/100\n",
      "10/10 [==============================] - 18s 2s/step - loss: 1.0962 - accuracy: 0.3571 - val_loss: 1.0956 - val_accuracy: 0.3688\n",
      "Epoch 57/100\n",
      "10/10 [==============================] - 14s 1s/step - loss: 1.0959 - accuracy: 0.3701 - val_loss: 1.0948 - val_accuracy: 0.3719\n",
      "Epoch 58/100\n",
      "10/10 [==============================] - 15s 1s/step - loss: 1.0967 - accuracy: 0.3669 - val_loss: 1.0954 - val_accuracy: 0.3656\n"
     ]
    },
    {
     "name": "stdout",
     "output_type": "stream",
     "text": [
      "Epoch 59/100\n",
      "10/10 [==============================] - 17s 2s/step - loss: 1.0944 - accuracy: 0.3750 - val_loss: 1.0961 - val_accuracy: 0.3656\n",
      "Epoch 60/100\n",
      "10/10 [==============================] - 15s 1s/step - loss: 1.0947 - accuracy: 0.3571 - val_loss: 1.0945 - val_accuracy: 0.3719\n",
      "Epoch 61/100\n",
      "10/10 [==============================] - 15s 1s/step - loss: 1.0964 - accuracy: 0.3669 - val_loss: 1.0963 - val_accuracy: 0.3594\n",
      "Epoch 62/100\n",
      "10/10 [==============================] - 15s 2s/step - loss: 1.0966 - accuracy: 0.3701 - val_loss: 1.0953 - val_accuracy: 0.3625\n",
      "Epoch 63/100\n",
      "10/10 [==============================] - 15s 2s/step - loss: 1.0981 - accuracy: 0.3636 - val_loss: 1.0941 - val_accuracy: 0.3781\n",
      "Epoch 64/100\n",
      "10/10 [==============================] - 16s 2s/step - loss: 1.0983 - accuracy: 0.3506 - val_loss: 1.0953 - val_accuracy: 0.3719\n",
      "Epoch 65/100\n",
      "10/10 [==============================] - 15s 2s/step - loss: 1.0958 - accuracy: 0.3734 - val_loss: 1.0955 - val_accuracy: 0.3688\n",
      "Epoch 66/100\n",
      "10/10 [==============================] - 15s 2s/step - loss: 1.0922 - accuracy: 0.3799 - val_loss: 1.0957 - val_accuracy: 0.3656\n",
      "Epoch 67/100\n",
      "10/10 [==============================] - 16s 2s/step - loss: 1.0958 - accuracy: 0.3636 - val_loss: 1.0956 - val_accuracy: 0.3688\n",
      "Epoch 68/100\n",
      "10/10 [==============================] - 15s 2s/step - loss: 1.0942 - accuracy: 0.3571 - val_loss: 1.0943 - val_accuracy: 0.3688\n",
      "Epoch 69/100\n",
      "10/10 [==============================] - 16s 2s/step - loss: 1.0966 - accuracy: 0.3701 - val_loss: 1.0949 - val_accuracy: 0.3688\n",
      "Epoch 70/100\n",
      "10/10 [==============================] - 17s 2s/step - loss: 1.0964 - accuracy: 0.3701 - val_loss: 1.0940 - val_accuracy: 0.3781\n",
      "Epoch 71/100\n",
      "10/10 [==============================] - 16s 2s/step - loss: 1.0951 - accuracy: 0.3636 - val_loss: 1.0952 - val_accuracy: 0.3781\n",
      "Epoch 72/100\n",
      "10/10 [==============================] - 15s 2s/step - loss: 1.0981 - accuracy: 0.3669 - val_loss: 1.0948 - val_accuracy: 0.3688\n",
      "Epoch 73/100\n",
      "10/10 [==============================] - 15s 2s/step - loss: 1.0976 - accuracy: 0.3669 - val_loss: 1.0943 - val_accuracy: 0.3781\n",
      "Epoch 74/100\n",
      "10/10 [==============================] - 16s 2s/step - loss: 1.0978 - accuracy: 0.3604 - val_loss: 1.0958 - val_accuracy: 0.3656\n",
      "Epoch 75/100\n",
      "10/10 [==============================] - 15s 1s/step - loss: 1.0945 - accuracy: 0.3734 - val_loss: 1.0964 - val_accuracy: 0.3594\n",
      "Epoch 76/100\n",
      "10/10 [==============================] - 14s 1s/step - loss: 1.0963 - accuracy: 0.3669 - val_loss: 1.0959 - val_accuracy: 0.3625\n",
      "Epoch 77/100\n",
      "10/10 [==============================] - 14s 1s/step - loss: 1.0990 - accuracy: 0.3506 - val_loss: 1.0965 - val_accuracy: 0.3625\n",
      "Epoch 78/100\n",
      "10/10 [==============================] - 14s 1s/step - loss: 1.0945 - accuracy: 0.3799 - val_loss: 1.0942 - val_accuracy: 0.3781\n",
      "Epoch 79/100\n",
      "10/10 [==============================] - 14s 1s/step - loss: 1.0927 - accuracy: 0.3799 - val_loss: 1.0953 - val_accuracy: 0.3719\n",
      "Epoch 80/100\n",
      "10/10 [==============================] - 14s 1s/step - loss: 1.0952 - accuracy: 0.3636 - val_loss: 1.0953 - val_accuracy: 0.3719\n",
      "Epoch 81/100\n",
      "10/10 [==============================] - 14s 1s/step - loss: 1.0958 - accuracy: 0.3864 - val_loss: 1.0954 - val_accuracy: 0.3688\n",
      "Epoch 82/100\n",
      "10/10 [==============================] - 14s 1s/step - loss: 1.0968 - accuracy: 0.3701 - val_loss: 1.0930 - val_accuracy: 0.3781\n",
      "Epoch 83/100\n",
      "10/10 [==============================] - 15s 2s/step - loss: 1.0971 - accuracy: 0.3669 - val_loss: 1.0957 - val_accuracy: 0.3656\n",
      "Epoch 84/100\n",
      "10/10 [==============================] - 19s 2s/step - loss: 1.0963 - accuracy: 0.3636 - val_loss: 1.0951 - val_accuracy: 0.3719\n",
      "Epoch 85/100\n",
      "10/10 [==============================] - 18s 2s/step - loss: 1.0948 - accuracy: 0.3625 - val_loss: 1.0931 - val_accuracy: 0.3844\n",
      "Epoch 86/100\n",
      "10/10 [==============================] - 16s 2s/step - loss: 1.0962 - accuracy: 0.3669 - val_loss: 1.0957 - val_accuracy: 0.3625\n",
      "Epoch 87/100\n",
      "10/10 [==============================] - 16s 2s/step - loss: 1.0961 - accuracy: 0.3669 - val_loss: 1.0948 - val_accuracy: 0.3688\n",
      "Epoch 88/100\n",
      "10/10 [==============================] - 17s 2s/step - loss: 1.0968 - accuracy: 0.3571 - val_loss: 1.0973 - val_accuracy: 0.3594\n",
      "Epoch 89/100\n",
      "10/10 [==============================] - 20s 2s/step - loss: 1.0955 - accuracy: 0.3688 - val_loss: 1.0966 - val_accuracy: 0.3594\n",
      "Epoch 90/100\n",
      "10/10 [==============================] - 17s 2s/step - loss: 1.0964 - accuracy: 0.3719 - val_loss: 1.0963 - val_accuracy: 0.3688\n",
      "Epoch 91/100\n",
      "10/10 [==============================] - 16s 2s/step - loss: 1.0969 - accuracy: 0.3766 - val_loss: 1.0948 - val_accuracy: 0.3719\n",
      "Epoch 92/100\n",
      "10/10 [==============================] - 16s 2s/step - loss: 1.0984 - accuracy: 0.3636 - val_loss: 1.0942 - val_accuracy: 0.3781\n",
      "Epoch 93/100\n",
      "10/10 [==============================] - 16s 2s/step - loss: 1.0951 - accuracy: 0.3636 - val_loss: 1.0945 - val_accuracy: 0.3719\n",
      "Epoch 94/100\n",
      "10/10 [==============================] - 16s 2s/step - loss: 1.0963 - accuracy: 0.3604 - val_loss: 1.0944 - val_accuracy: 0.3750\n",
      "Epoch 95/100\n",
      "10/10 [==============================] - 14s 1s/step - loss: 1.0976 - accuracy: 0.3604 - val_loss: 1.0955 - val_accuracy: 0.3656\n",
      "Epoch 96/100\n",
      "10/10 [==============================] - 14s 1s/step - loss: 1.0946 - accuracy: 0.3669 - val_loss: 1.0957 - val_accuracy: 0.3719\n",
      "Epoch 97/100\n",
      "10/10 [==============================] - 15s 2s/step - loss: 1.0955 - accuracy: 0.3734 - val_loss: 1.0941 - val_accuracy: 0.3750\n",
      "Epoch 98/100\n",
      "10/10 [==============================] - 14s 1s/step - loss: 1.0942 - accuracy: 0.3701 - val_loss: 1.0939 - val_accuracy: 0.3781\n",
      "Epoch 99/100\n",
      "10/10 [==============================] - 15s 1s/step - loss: 1.0970 - accuracy: 0.3701 - val_loss: 1.0942 - val_accuracy: 0.3750\n",
      "Epoch 100/100\n",
      "10/10 [==============================] - 14s 1s/step - loss: 1.0950 - accuracy: 0.3750 - val_loss: 1.0957 - val_accuracy: 0.3656\n"
     ]
    }
   ],
   "source": [
    "#### Fitting the model\n",
    "history = model.fit(\n",
    "           training_set, steps_per_epoch=training_set.samples // batch_size, \n",
    "           epochs=epochs, \n",
    "           validation_data=test_set,validation_steps=test_set.samples // batch_size)"
   ]
  },
  {
   "cell_type": "code",
   "execution_count": 24,
   "metadata": {},
   "outputs": [],
   "source": [
    "import matplotlib.pyplot as plt"
   ]
  },
  {
   "cell_type": "code",
   "execution_count": 25,
   "metadata": {},
   "outputs": [],
   "source": [
    "def graph():\n",
    "    #Plot training & validation accuracy values\n",
    "    plt.plot(history.history['accuracy'])\n",
    "    plt.plot(history.history['val_accuracy'])\n",
    "    plt.title('Model accuracy')\n",
    "    plt.ylabel('Accuracy')\n",
    "    plt.xlabel('Epoch')\n",
    "    plt.legend(['Train', 'Test'], loc='upper left')\n",
    "    plt.show()\n",
    "\n",
    "    # Plot training & validation loss values\n",
    "    plt.plot(history.history['loss'])\n",
    "    plt.plot(history.history['val_loss'])\n",
    "    plt.title('Model loss')\n",
    "    plt.ylabel('Loss')\n",
    "    plt.xlabel('Epoch')\n",
    "    plt.legend(['Train', 'Test'], loc='upper left')\n",
    "    plt.show()"
   ]
  },
  {
   "cell_type": "code",
   "execution_count": 26,
   "metadata": {},
   "outputs": [
    {
     "data": {
      "image/png": "[encoded data removed]",
      "text/plain": [
       "<Figure size 432x288 with 1 Axes>"
      ]
     },
     "metadata": {
      "needs_background": "light"
     },
     "output_type": "display_data"
    },
    {
     "data": {
      "image/png": "[encoded data removed]",
      "text/plain": [
       "<Figure size 432x288 with 1 Axes>"
      ]
     },
     "metadata": {
      "needs_background": "light"
     },
     "output_type": "display_data"
    }
   ],
   "source": [
    "graph()"
   ]
  },
  {
   "cell_type": "code",
   "execution_count": null,
   "metadata": {},
   "outputs": [],
   "source": []
  }
 ],
 "metadata": {
  "kernelspec": {
   "display_name": "Python 3",
   "language": "python",
   "name": "python3"
  },
  "language_info": {
   "codemirror_mode": {
    "name": "ipython",
    "version": 3
   },
   "file_extension": ".py",
   "mimetype": "text/x-python",
   "name": "python",
   "nbconvert_exporter": "python",
   "pygments_lexer": "ipython3",
   "version": "3.8.5"
  }
 },
 "nbformat": 4,
 "nbformat_minor": 4
}
